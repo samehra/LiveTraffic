{
  "cells": [
    {
      "cell_type": "markdown",
      "metadata": {
        "id": "view-in-github",
        "colab_type": "text"
      },
      "source": [
        "<a href=\"https://colab.research.google.com/github/samehra/LiveTraffic/blob/main/CaptureLiveTraffic_caltrans.ipynb\" target=\"_parent\"><img src=\"https://colab.research.google.com/assets/colab-badge.svg\" alt=\"Open In Colab\"/></a>"
      ]
    },
    {
      "cell_type": "code",
      "source": [
        "import cv2\n",
        "from google.colab.patches import cv2_imshow\n",
        "import time\n",
        "\n",
        "# Use the playlist URL\n",
        "m3u8_url = \"https://wzmedia.dot.ca.gov/D4/W80_at_SAS_Tower.stream/playlist.m3u8\"\n",
        "\n",
        "def process_live_feed(video_url, frame_rate=1):\n",
        "    \"\"\"\n",
        "    Captures frames from a live traffic feed at a specific frame rate.\n",
        "\n",
        "    Args:\n",
        "        video_url (str): URL of the HLS (.m3u8) video stream.\n",
        "        frame_rate (int): Number of frames to capture per second.\n",
        "    \"\"\"\n",
        "    # Initialize video capture for the HLS stream\n",
        "    cap = cv2.VideoCapture(video_url)\n",
        "    if not cap.isOpened():\n",
        "        print(\"Error: Unable to access the video stream.\")\n",
        "        return\n",
        "\n",
        "    print(\"Streaming started. Press 'Ctrl + C' to stop.\")\n",
        "\n",
        "    # Calculate the time interval for frame capture\n",
        "    interval = 1 / frame_rate\n",
        "\n",
        "    try:\n",
        "        while True:\n",
        "            start_time = time.time()\n",
        "\n",
        "            # Read a frame\n",
        "            ret, frame = cap.read()\n",
        "            if not ret:\n",
        "                print(\"Error: Failed to read from the stream.\")\n",
        "                break\n",
        "\n",
        "            # Display the frame (optional)\n",
        "            # cv2.imshow(\"Traffic Feed\", frame)\n",
        "            cv2_imshow(frame)\n",
        "\n",
        "            # Save the frame to a local directory\n",
        "            timestamp = int(time.time())\n",
        "            frame_filename = f\"frames/frame_{timestamp}.jpg\"\n",
        "            cv2.imwrite(frame_filename, frame)\n",
        "            print(f\"Frame saved: {frame_filename}\")\n",
        "\n",
        "            # Wait for the next frame\n",
        "            elapsed = time.time() - start_time\n",
        "            time.sleep(max(0, interval - elapsed))\n",
        "\n",
        "            # Exit if 'q' is pressed\n",
        "            if cv2.waitKey(1) & 0xFF == ord('q'):\n",
        "                break\n",
        "\n",
        "    except KeyboardInterrupt:\n",
        "        print(\"\\nStreaming stopped.\")\n",
        "    finally:\n",
        "        # Release resources\n",
        "        cap.release()\n",
        "        cv2.destroyAllWindows()\n",
        "\n",
        "# Run the live feed processing\n",
        "process_live_feed(m3u8_url, frame_rate=1)"
      ],
      "metadata": {
        "id": "uLP3C6mYiFL9"
      },
      "execution_count": null,
      "outputs": []
    },
    {
      "cell_type": "code",
      "source": [],
      "metadata": {
        "id": "gpcLzDkwiJnS"
      },
      "execution_count": null,
      "outputs": []
    }
  ],
  "metadata": {
    "accelerator": "GPU",
    "colab": {
      "gpuType": "T4",
      "provenance": [],
      "include_colab_link": true
    },
    "kernelspec": {
      "display_name": "Python 3 (ipykernel)",
      "language": "python",
      "name": "python3"
    },
    "language_info": {
      "codemirror_mode": {
        "name": "ipython",
        "version": 3
      },
      "file_extension": ".py",
      "mimetype": "text/x-python",
      "name": "python",
      "nbconvert_exporter": "python",
      "pygments_lexer": "ipython3",
      "version": "3.9.15"
    }
  },
  "nbformat": 4,
  "nbformat_minor": 0
}